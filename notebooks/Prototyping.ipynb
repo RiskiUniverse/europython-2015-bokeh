{
 "cells": [
  {
   "cell_type": "code",
   "execution_count": null,
   "metadata": {
    "collapsed": false
   },
   "outputs": [],
   "source": [
    "from bokeh.io import output_notebook, show\n",
    "output_notebook()"
   ]
  },
  {
   "cell_type": "markdown",
   "metadata": {
    "collapsed": true
   },
   "source": [
    "### Play with a bar chart"
   ]
  },
  {
   "cell_type": "code",
   "execution_count": null,
   "metadata": {
    "collapsed": false
   },
   "outputs": [],
   "source": [
    "def get_bar():\n",
    "    from bokeh.charts import Bar\n",
    "    from process_gtimelog import get_bar_chart_df\n",
    "    data = get_bar_chart_df()\n",
    "    return Bar(data, stacked=True, width=200, height=200, palette=['purple', 'gray'], tools='')\n",
    "show(get_bar())"
   ]
  },
  {
   "cell_type": "code",
   "execution_count": null,
   "metadata": {
    "collapsed": false
   },
   "outputs": [],
   "source": [
    "barchart = get_bar()\n",
    "barchart.border_fill = 'black'\n",
    "show(barchart)"
   ]
  },
  {
   "cell_type": "code",
   "execution_count": null,
   "metadata": {
    "collapsed": false
   },
   "outputs": [],
   "source": [
    "barchart = get_bar()\n",
    "barchart.renderers"
   ]
  },
  {
   "cell_type": "code",
   "execution_count": null,
   "metadata": {
    "collapsed": false
   },
   "outputs": [],
   "source": [
    "from bokeh.models import LinearAxis\n",
    "yaxis = barchart.select_one({'type': LinearAxis})"
   ]
  },
  {
   "cell_type": "code",
   "execution_count": null,
   "metadata": {
    "collapsed": false
   },
   "outputs": [],
   "source": [
    "yaxis. # Tab"
   ]
  },
  {
   "cell_type": "code",
   "execution_count": null,
   "metadata": {
    "collapsed": false
   },
   "outputs": [],
   "source": [
    "barchart = get_bar()\n",
    "barchart.border_fill = 'black'\n",
    "yaxis = barchart.select_one({'type': LinearAxis})\n",
    "yaxis.major_label_text_color = 'white' # Tab\n",
    "show(barchart)"
   ]
  },
  {
   "cell_type": "markdown",
   "metadata": {
    "collapsed": true
   },
   "source": [
    "### Make the equivalent of my styled bar chart from models"
   ]
  },
  {
   "cell_type": "code",
   "execution_count": null,
   "metadata": {
    "collapsed": true
   },
   "outputs": [],
   "source": [
    "import pandas as pd\n",
    "from bokeh.models import ColumnDataSource\n",
    "source = ColumnDataSource(pd.read_csv('bar_data.csv'))"
   ]
  },
  {
   "cell_type": "markdown",
   "metadata": {},
   "source": [
    "#### My stylesheet"
   ]
  },
  {
   "cell_type": "code",
   "execution_count": null,
   "metadata": {
    "collapsed": true
   },
   "outputs": [],
   "source": [
    "from charts.constants import COLOR_PRIMARY, COLOR_PRIMARY_CONTRAST, COLOR_PRIMARY_DARK, COLOR_ACCENT\n",
    "\n",
    "PLOT_PROPERTIES = dict(\n",
    "    toolbar_location=None,\n",
    "    background_fill=COLOR_PRIMARY,\n",
    "    border_fill=COLOR_PRIMARY,\n",
    "    outline_line_color=None,\n",
    "    min_border=5,\n",
    ")\n",
    "\n",
    "AXIS_PROPERTIES = dict(\n",
    "    major_label_text_color=COLOR_PRIMARY_CONTRAST,\n",
    "    axis_line_color=None,\n",
    "    major_tick_line_color=None,\n",
    "    minor_tick_line_color=None,\n",
    ")\n",
    "\n",
    "RECT_PROPERTIES = dict(x=\"cat\", width=\"width\", line_color=None)"
   ]
  },
  {
   "cell_type": "code",
   "execution_count": null,
   "metadata": {
    "collapsed": false
   },
   "outputs": [],
   "source": [
    "from bokeh.models import Plot, FactorRange, Range1d, LinearAxis, CategoricalAxis, Rect\n",
    "\n",
    "p = Plot(\n",
    "    x_range=FactorRange(factors=source.data.get('cat')),\n",
    "    y_range=Range1d(0, 9),\n",
    "    plot_width=200,\n",
    "    plot_height=200,\n",
    "    **PLOT_PROPERTIES\n",
    ")\n",
    "y_axis = LinearAxis(**AXIS_PROPERTIES)\n",
    "x_axis = CategoricalAxis(**AXIS_PROPERTIES)\n",
    "base = Rect(y='stackedhuman',height='human', fill_color=COLOR_ACCENT, **RECT_PROPERTIES)\n",
    "total = Rect(y='stackedfrom total', height='from total', fill_color=COLOR_PRIMARY_DARK, **RECT_PROPERTIES)\n",
    "\n",
    "p.add_layout(y_axis, 'left')\n",
    "p.add_layout(x_axis, 'below')\n",
    "p.add_glyph(source, base)\n",
    "p.add_glyph(source, total)\n",
    "\n",
    "show(p)"
   ]
  }
 ],
 "metadata": {
  "kernelspec": {
   "display_name": "Python 3",
   "language": "python",
   "name": "python3"
  },
  "language_info": {
   "codemirror_mode": {
    "name": "ipython",
    "version": 3
   },
   "file_extension": ".py",
   "mimetype": "text/x-python",
   "name": "python",
   "nbconvert_exporter": "python",
   "pygments_lexer": "ipython3",
   "version": "3.4.3"
  }
 },
 "nbformat": 4,
 "nbformat_minor": 0
}
