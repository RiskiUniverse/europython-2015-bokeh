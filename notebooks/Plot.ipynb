{
 "cells": [
  {
   "cell_type": "markdown",
   "metadata": {},
   "source": [
    "# Plot"
   ]
  },
  {
   "cell_type": "code",
   "execution_count": 1,
   "metadata": {
    "collapsed": false
   },
   "outputs": [
    {
     "data": {
      "text/plain": [
       "bokeh.models.plots.Plot"
      ]
     },
     "execution_count": 1,
     "metadata": {},
     "output_type": "execute_result"
    }
   ],
   "source": [
    "from bokeh.models import Plot\n",
    "\n",
    "p = Plot()\n",
    "type(p)"
   ]
  },
  {
   "cell_type": "code",
   "execution_count": 2,
   "metadata": {
    "collapsed": false
   },
   "outputs": [
    {
     "data": {
      "text/plain": [
       "bokeh.plotting.Figure"
      ]
     },
     "execution_count": 2,
     "metadata": {},
     "output_type": "execute_result"
    }
   ],
   "source": [
    "from bokeh.plotting import figure\n",
    "\n",
    "f = figure()\n",
    "type(f)"
   ]
  },
  {
   "cell_type": "code",
   "execution_count": 3,
   "metadata": {
    "collapsed": false
   },
   "outputs": [
    {
     "data": {
      "text/plain": [
       "bokeh.charts._chart.Chart"
      ]
     },
     "execution_count": 3,
     "metadata": {},
     "output_type": "execute_result"
    }
   ],
   "source": [
    "from bokeh.charts import Chart\n",
    "\n",
    "c = Chart()\n",
    "type(c)"
   ]
  },
  {
   "cell_type": "markdown",
   "metadata": {},
   "source": [
    "# All have common attributes"
   ]
  },
  {
   "cell_type": "code",
   "execution_count": 4,
   "metadata": {
    "collapsed": false
   },
   "outputs": [
    {
     "name": "stdout",
     "output_type": "stream",
     "text": [
      "above above above\n",
      "white white white\n"
     ]
    }
   ],
   "source": [
    "print(p.toolbar_location, f.toolbar_location, c.toolbar_location)\n",
    "print(p.background_fill, f.background_fill, c.background_fill)"
   ]
  },
  {
   "cell_type": "markdown",
   "metadata": {},
   "source": [
    "#All have 3 key methods\n",
    "\n",
    "* add_tools\n",
    "* add_layout\n",
    "* add_glyph"
   ]
  },
  {
   "cell_type": "code",
   "execution_count": 5,
   "metadata": {
    "collapsed": false
   },
   "outputs": [
    {
     "name": "stdout",
     "output_type": "stream",
     "text": [
      "<bound method Plot.add_tools of <bokeh.models.plots.Plot object at 0x7fbfe06219e8>> <bound method Figure.add_tools of <bokeh.plotting.Figure object at 0x7fbfc4d8e9e8>> <bound method Chart.add_tools of <bokeh.charts._chart.Chart object at 0x7fbfc4c96048>>\n"
     ]
    }
   ],
   "source": [
    "print(p.add_tools, f.add_tools, c.add_tools)"
   ]
  },
  {
   "cell_type": "code",
   "execution_count": 6,
   "metadata": {
    "collapsed": false
   },
   "outputs": [
    {
     "name": "stdout",
     "output_type": "stream",
     "text": [
      "<bound method Plot.add_layout of <bokeh.models.plots.Plot object at 0x7fbfe06219e8>> <bound method Figure.add_layout of <bokeh.plotting.Figure object at 0x7fbfc4d8e9e8>> <bound method Chart.add_layout of <bokeh.charts._chart.Chart object at 0x7fbfc4c96048>>\n"
     ]
    }
   ],
   "source": [
    "print(p.add_layout, f.add_layout, c.add_layout)"
   ]
  },
  {
   "cell_type": "code",
   "execution_count": 7,
   "metadata": {
    "collapsed": false
   },
   "outputs": [
    {
     "name": "stdout",
     "output_type": "stream",
     "text": [
      "<bound method Plot.add_glyph of <bokeh.models.plots.Plot object at 0x7fbfe06219e8>> <bound method Figure.add_glyph of <bokeh.plotting.Figure object at 0x7fbfc4d8e9e8>> <bound method Chart.add_glyph of <bokeh.charts._chart.Chart object at 0x7fbfc4c96048>>\n"
     ]
    }
   ],
   "source": [
    "print(p.add_glyph, f.add_glyph, c.add_glyph)"
   ]
  },
  {
   "cell_type": "code",
   "execution_count": null,
   "metadata": {
    "collapsed": true
   },
   "outputs": [],
   "source": []
  }
 ],
 "metadata": {
  "kernelspec": {
   "display_name": "Python 3",
   "language": "python",
   "name": "python3"
  },
  "language_info": {
   "codemirror_mode": {
    "name": "ipython",
    "version": 3
   },
   "file_extension": ".py",
   "mimetype": "text/x-python",
   "name": "python",
   "nbconvert_exporter": "python",
   "pygments_lexer": "ipython3",
   "version": "3.4.3"
  }
 },
 "nbformat": 4,
 "nbformat_minor": 0
}
