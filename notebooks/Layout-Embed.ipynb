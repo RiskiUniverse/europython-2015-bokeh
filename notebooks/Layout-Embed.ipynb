{
 "cells": [
  {
   "cell_type": "code",
   "execution_count": null,
   "metadata": {
    "collapsed": false
   },
   "outputs": [],
   "source": [
    "from bokeh.io import output_notebook, show\n",
    "output_notebook()"
   ]
  },
  {
   "cell_type": "code",
   "execution_count": null,
   "metadata": {
    "collapsed": false,
    "scrolled": true
   },
   "outputs": [],
   "source": [
    "# Have some functions that return our styled plots\n",
    "from process_gtimelog import get_today_df, get_processed_df\n",
    "import datetime\n",
    "today = datetime.datetime(2015, 7, 10)\n",
    "def get_plots():\n",
    "    import charts\n",
    "    from charts.today_summary import get_plot as today_summary_get_plot                                 \n",
    "    from charts.time_line_selector import get_plot as time_line_selector_get_plot                       \n",
    "    from charts.time_log import get_plot as time_log_get_plot                                   \n",
    "\n",
    "    all_time_line, detail_time_line = time_line_selector_get_plot(get_processed_df(), today)\n",
    "    today_categories, today_plots, today_tables = today_summary_get_plot(get_today_df())\n",
    "    time_log = time_log_get_plot(get_processed_df(), today)\n",
    "    return all_time_line, detail_time_line, today_plots, time_log\n",
    "\n",
    "all_time_line, detail_time_line, today_plots, time_log = get_plots()\n",
    "print(today_plots)\n",
    "show(time_log)"
   ]
  },
  {
   "cell_type": "markdown",
   "metadata": {},
   "source": [
    "# Bokeh layout"
   ]
  },
  {
   "cell_type": "code",
   "execution_count": null,
   "metadata": {
    "collapsed": false
   },
   "outputs": [],
   "source": [
    "from bokeh.io import hplot, vplot\n",
    "\n",
    "all_time_line, detail_time_line, today_plots, time_log = get_plots()\n",
    "\n",
    "show(\n",
    "    vplot(\n",
    "        hplot(today_plots['Beekeeping_bar'], today_plots['Python_bar'], time_log),\n",
    "        all_time_line,\n",
    "        detail_time_line\n",
    "    )\n",
    ")"
   ]
  },
  {
   "cell_type": "markdown",
   "metadata": {},
   "source": [
    "# Embed\n",
    "\n",
    "Insert your charts into your custom html: http://bokeh.pydata.org/en/latest/docs/reference/resources_embedding.html"
   ]
  },
  {
   "cell_type": "code",
   "execution_count": null,
   "metadata": {
    "collapsed": false
   },
   "outputs": [],
   "source": [
    "from bokeh.embed import components\n",
    "\n",
    "all_time_line, detail_time_line, today_plots, time_log = get_plots()\n",
    "\n",
    "script, divs = components({\n",
    "        'all_time_line': all_time_line,\n",
    "        'detail_time_line': detail_time_line,\n",
    "        'time_log': time_log,\n",
    "        'beekeeping': today_plots['Beekeeping_bar'],\n",
    "        'python': today_plots['Python_bar'],\n",
    "    })"
   ]
  },
  {
   "cell_type": "code",
   "execution_count": null,
   "metadata": {
    "collapsed": false
   },
   "outputs": [],
   "source": [
    "divs"
   ]
  },
  {
   "cell_type": "code",
   "execution_count": null,
   "metadata": {
    "collapsed": true
   },
   "outputs": [],
   "source": [
    "from jinja2 import Template\n",
    "template = Template(\"\"\"\n",
    "<!DOCTYPE html>\n",
    "<html lang=\"en\">\n",
    "    <head>\n",
    "        <script type=\"text/javascript\" src=\"http://cdn.pydata.org/bokeh/release/bokeh-0.9.1.min.js\"></script>\n",
    "        <link rel=\"stylesheet\" href=\"http://cdn.pydata.org/bokeh/release/bokeh-0.9.1.min.js\"></link>\n",
    "  </head>\n",
    "  <body>\n",
    "    <h1>Building a dashboard</h1>\n",
    "    \n",
    "    <h3>Today's activities</h3>\n",
    "    {{ divs.time_log | safe }}\n",
    "\n",
    "    <h3>My time selector</h3>\n",
    "    {{ divs.all_time_line | safe }}\n",
    "    {{ divs.detail_time_line | safe }}\n",
    "    \n",
    "    {{ script | safe }}\n",
    "    \n",
    "  </body>\n",
    "</html>\n",
    "\"\"\")"
   ]
  },
  {
   "cell_type": "code",
   "execution_count": null,
   "metadata": {
    "collapsed": false
   },
   "outputs": [],
   "source": [
    "html = template.render(script=script, divs=divs)"
   ]
  },
  {
   "cell_type": "code",
   "execution_count": null,
   "metadata": {
    "collapsed": false,
    "scrolled": true
   },
   "outputs": [],
   "source": [
    "from IPython.display import display, HTML\n",
    "display(HTML(html))"
   ]
  },
  {
   "cell_type": "markdown",
   "metadata": {},
   "source": [
    "Can do this in whatever your templating language of choice is. Bokeh has jinja 2 already built in, so if you've installed it you'll have it available to play with, but works equally well with Django or whatever you need.\n",
    "\n",
    "If you're not trying to build a whole webapp, you may also find bokeh.embed.file_html helpful.\n",
    "\n",
    "http://bokeh.pydata.org/en/latest/docs/reference/resources_embedding.html#bokeh-embed"
   ]
  }
 ],
 "metadata": {
  "kernelspec": {
   "display_name": "Python 3",
   "language": "python",
   "name": "python3"
  },
  "language_info": {
   "codemirror_mode": {
    "name": "ipython",
    "version": 3
   },
   "file_extension": ".py",
   "mimetype": "text/x-python",
   "name": "python",
   "nbconvert_exporter": "python",
   "pygments_lexer": "ipython3",
   "version": "3.4.3"
  }
 },
 "nbformat": 4,
 "nbformat_minor": 0
}
