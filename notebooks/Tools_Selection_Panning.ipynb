{
 "cells": [
  {
   "cell_type": "code",
   "execution_count": null,
   "metadata": {
    "collapsed": false
   },
   "outputs": [],
   "source": [
    "from bokeh.io import output_notebook, show\n",
    "output_notebook()"
   ]
  },
  {
   "cell_type": "code",
   "execution_count": null,
   "metadata": {
    "collapsed": false
   },
   "outputs": [],
   "source": [
    "from bokeh.plotting import figure, gridplot\n",
    "from bokeh.models import ColumnDataSource, HoverTool\n",
    "\n",
    "x = list(range(11))\n",
    "y0 = x\n",
    "y1 = [10-xx for xx in x]\n",
    "y2 = [abs(xx-5) for xx in x]\n",
    "\n",
    "source = ColumnDataSource(data=dict(x=x, y0=y0, y1=y1, y2=y2))\n",
    "source.data"
   ]
  },
  {
   "cell_type": "code",
   "execution_count": null,
   "metadata": {
    "collapsed": false,
    "scrolled": true
   },
   "outputs": [],
   "source": [
    "# Create plots and **share ranges**\n",
    "FIGURE_PROPS = dict(tools=\"wheel_zoom,pan,tap,reset\", min_border=5, width=180, height=200)\n",
    "p1 = figure(**FIGURE_PROPS)\n",
    "p2 = figure(x_range=p1.x_range, **FIGURE_PROPS)\n",
    "p3 = figure(x_range=p1.x_range, y_range=p1.y_range, **FIGURE_PROPS)\n",
    "\n",
    "# Add points with **shared source**\n",
    "MARKER_PROPS = dict(size=10, source=source)\n",
    "p1.circle('x', 'y0', **MARKER_PROPS)\n",
    "p2.triangle('x', 'y1', **MARKER_PROPS)\n",
    "p3.square('x', 'y2', **MARKER_PROPS)\n",
    "\n",
    "show(gridplot([[p1, p2, p3]]))"
   ]
  },
  {
   "cell_type": "code",
   "execution_count": null,
   "metadata": {
    "collapsed": false
   },
   "outputs": [],
   "source": [
    "# Create plots and **share ranges**\n",
    "FIGURE_PROPS = dict(tools=\"wheel_zoom,pan,tap,reset\", min_border=5, width=180, height=200)\n",
    "p1 = figure(**FIGURE_PROPS)\n",
    "p2 = figure(x_range=p1.x_range, **FIGURE_PROPS)\n",
    "p3 = figure(x_range=p1.x_range, y_range=p1.y_range, **FIGURE_PROPS)\n",
    "\n",
    "# Add points with **shared source**\n",
    "MARKER_PROPS = dict(size=10, source=source)\n",
    "p1.circle('x', 'y0', **MARKER_PROPS)\n",
    "p2.triangle('x', 'y1', **MARKER_PROPS)\n",
    "p3.square('x', 'y2', **MARKER_PROPS)\n",
    "\n",
    "# Add **hover**\n",
    "p1.add_tools(\n",
    "    HoverTool(tooltips=[('x', '@x'), ('y0', '@y0'), ('y1', '@y1')])\n",
    ")\n",
    "p2.add_tools(\n",
    "    HoverTool(tooltips='x = @x, y = @y0')\n",
    ")\n",
    "p3.add_tools(\n",
    "    HoverTool(tooltips='x = <strong>@x</strong></br><span style=\"color: magenta\">y = @y0</span>')\n",
    ")\n",
    "\n",
    "show(gridplot([[p1, p2, p3]]))"
   ]
  },
  {
   "cell_type": "code",
   "execution_count": null,
   "metadata": {
    "collapsed": true
   },
   "outputs": [],
   "source": []
  }
 ],
 "metadata": {
  "kernelspec": {
   "display_name": "Python 3",
   "language": "python",
   "name": "python3"
  },
  "language_info": {
   "codemirror_mode": {
    "name": "ipython",
    "version": 3
   },
   "file_extension": ".py",
   "mimetype": "text/x-python",
   "name": "python",
   "nbconvert_exporter": "python",
   "pygments_lexer": "ipython3",
   "version": "3.4.3"
  }
 },
 "nbformat": 4,
 "nbformat_minor": 0
}
